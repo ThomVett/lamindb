{
 "cells": [
  {
   "cell_type": "markdown",
   "metadata": {},
   "source": [
    "# Test sqlite database backend"
   ]
  },
  {
   "cell_type": "code",
   "execution_count": null,
   "metadata": {},
   "outputs": [],
   "source": [
    "%load_ext autoreload\n",
    "%autoreload 2"
   ]
  },
  {
   "cell_type": "code",
   "execution_count": null,
   "metadata": {},
   "outputs": [],
   "source": [
    "!rm lamin.db"
   ]
  },
  {
   "cell_type": "code",
   "execution_count": null,
   "metadata": {},
   "outputs": [],
   "source": [
    "from sqlmodel import Field, Session, SQLModel, create_engine, select\n",
    "from lamindb.database._sqlite import Dataset, Publication\n",
    "import json\n",
    "\n",
    "engine = create_engine(\"sqlite:///lamin.db\")\n",
    "SQLModel.metadata.create_all(engine)"
   ]
  },
  {
   "cell_type": "markdown",
   "metadata": {},
   "source": [
    "Write out a JSON schema."
   ]
  },
  {
   "cell_type": "code",
   "execution_count": null,
   "metadata": {},
   "outputs": [],
   "source": [
    "json.loads(Publication.schema_json(indent=2))"
   ]
  },
  {
   "cell_type": "markdown",
   "metadata": {},
   "source": [
    "Initialize a database."
   ]
  },
  {
   "cell_type": "code",
   "execution_count": null,
   "metadata": {},
   "outputs": [],
   "source": [
    "with Session(engine) as session:\n",
    "\n",
    "    # create publications\n",
    "    pub_heimberg22 = Publication(name=\"Heimberg22\")\n",
    "    pub_eraslan21 = Publication(name=\"Eraslan21\")\n",
    "\n",
    "    # create datasets\n",
    "    ds_human = Dataset(name=\"Human lung\", publication=pub_heimberg22)\n",
    "    ds_mouse = Dataset(name=\"Mouse lung\", publication=pub_heimberg22)\n",
    "    ds_single_nuclei = Dataset(name=\"Single-nuclei atlas\", publication=pub_eraslan21)\n",
    "\n",
    "    session.add(pub_heimberg22)\n",
    "    session.add(pub_eraslan21)\n",
    "\n",
    "    session.commit()"
   ]
  },
  {
   "cell_type": "markdown",
   "metadata": {},
   "source": [
    "We just learned that we have a new dataset associated to a publication, and want to update it."
   ]
  },
  {
   "cell_type": "code",
   "execution_count": null,
   "metadata": {},
   "outputs": [],
   "source": [
    "with Session(engine) as session:\n",
    "\n",
    "    statement = select(Publication).where(Publication.name == \"Heimberg22\")\n",
    "    results = session.exec(statement)\n",
    "    pub_heimberg22 = results.first()\n",
    "\n",
    "    print(\"original datasets:\")\n",
    "    print(pub_heimberg22.dataset)\n",
    "\n",
    "    ds_mouse_last_sample = Dataset(name=\"Mouse lung last sample\")\n",
    "    pub_heimberg22.dataset.append(ds_mouse_last_sample)\n",
    "\n",
    "    print(\"new datasets:\")\n",
    "    print(pub_heimberg22.dataset)"
   ]
  }
 ],
 "metadata": {
  "interpreter": {
   "hash": "40d3a090f54c6569ab1632332b64b2c03c39dcf918b08424e98f38b5ae0af88f"
  },
  "kernelspec": {
   "display_name": "Python 3.9.7 ('base')",
   "language": "python",
   "name": "python3"
  },
  "language_info": {
   "codemirror_mode": {
    "name": "ipython",
    "version": 3
   },
   "file_extension": ".py",
   "mimetype": "text/x-python",
   "name": "python",
   "nbconvert_exporter": "python",
   "pygments_lexer": "ipython3",
   "version": "3.9.7"
  }
 },
 "nbformat": 4,
 "nbformat_minor": 2
}
